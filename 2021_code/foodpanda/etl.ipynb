{
 "cells": [
  {
   "cell_type": "code",
   "execution_count": 11,
   "source": [
    "import pandas as pd \r\n",
    "import json"
   ],
   "outputs": [],
   "metadata": {}
  },
  {
   "cell_type": "code",
   "execution_count": 29,
   "source": [
    "## Read JSON file from storage\r\n",
    "data = json.load(open(r'.\\json\\first\\Hlaing.json', 'r', encoding='utf-8'))\r\n",
    "print(type(data))\r\n",
    "# df = pd.read_json(r'.\\json\\first\\Hlaing.json', encoding='utf-8', lines = True, chunksize=5)\r\n",
    "test = data['data']['aggregations']['cuisines']\r\n",
    "#print(test)\r\n",
    "df = pd.DataFrame(test)\r\n",
    "print(df.head())\r\n",
    "print(df.shape)\r\n",
    "print(df.sort_values(by=['count']))"
   ],
   "outputs": [
    {
     "output_type": "stream",
     "name": "stdout",
     "text": [
      "<class 'dict'>\n",
      "     id      title  count\n",
      "0  1092    Alcohol      1\n",
      "1    66   American      4\n",
      "2    54      Asian    532\n",
      "3  1099     Bakery     10\n",
      "4    68  Beverages     54\n",
      "(39, 3)\n",
      "      id           title  count\n",
      "0   1092         Alcohol      1\n",
      "36    80      Vietnamese      1\n",
      "22   119  Malaysian food      1\n",
      "16   123           Halal      1\n",
      "13   164        Filipino      1\n",
      "15    58          Fusion      2\n",
      "38  1097           Wraps      2\n",
      "19    48         Italian      3\n",
      "20    51        Japanese      3\n",
      "37   130         Western      4\n",
      "17   112    Healthy Food      4\n",
      "24  1094           Pasta      4\n",
      "1     66        American      4\n",
      "18    59          Indian      6\n",
      "33    67           Sushi      7\n",
      "11  1055        European      7\n",
      "32  1083     Street Food      7\n",
      "3   1099          Bakery     10\n",
      "35    73      Vegetarian     11\n",
      "28    50      Sandwiches     11\n",
      "25    52           Pizza     13\n",
      "5     64         Burgers     14\n",
      "34    55            Thai     20\n",
      "21    75          Korean     20\n",
      "9     53         Chinese     23\n",
      "7     56           Cakes     33\n",
      "29    61         Seafood     39\n",
      "14  1098            Fish     42\n",
      "12    65       Fast Food     42\n",
      "6   1076         Burmese     43\n",
      "4     68       Beverages     54\n",
      "10    63        Desserts     59\n",
      "30  1089          Snacks     71\n",
      "31  1091           Soups     72\n",
      "26  1095     Rice Dishes    181\n",
      "8   1090         Chicken    188\n",
      "23  1093         Noodles    188\n",
      "27  1096          Salads    201\n",
      "2     54           Asian    532\n"
     ]
    }
   ],
   "metadata": {}
  },
  {
   "cell_type": "code",
   "execution_count": null,
   "source": [],
   "outputs": [],
   "metadata": {}
  }
 ],
 "metadata": {
  "orig_nbformat": 4,
  "language_info": {
   "name": "python",
   "version": "3.9.1",
   "mimetype": "text/x-python",
   "codemirror_mode": {
    "name": "ipython",
    "version": 3
   },
   "pygments_lexer": "ipython3",
   "nbconvert_exporter": "python",
   "file_extension": ".py"
  },
  "kernelspec": {
   "name": "python3",
   "display_name": "Python 3.9.1 64-bit"
  },
  "interpreter": {
   "hash": "2647ea34e536f865ab67ff9ddee7fd78773d956cec0cab53c79b32cd10da5d83"
  }
 },
 "nbformat": 4,
 "nbformat_minor": 2
}