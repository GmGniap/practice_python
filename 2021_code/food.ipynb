{
 "metadata": {
  "language_info": {
   "codemirror_mode": {
    "name": "ipython",
    "version": 3
   },
   "file_extension": ".py",
   "mimetype": "text/x-python",
   "name": "python",
   "nbconvert_exporter": "python",
   "pygments_lexer": "ipython3",
   "version": "3.9.1-final"
  },
  "orig_nbformat": 2,
  "kernelspec": {
   "name": "python391jvsc74a57bd02647ea34e536f865ab67ff9ddee7fd78773d956cec0cab53c79b32cd10da5d83",
   "display_name": "Python 3.9.1 64-bit"
  }
 },
 "nbformat": 4,
 "nbformat_minor": 2,
 "cells": [
  {
   "cell_type": "code",
   "execution_count": 1,
   "metadata": {},
   "outputs": [],
   "source": [
    "import pandas as pd \n",
    "import numpy as np \n"
   ]
  },
  {
   "cell_type": "code",
   "execution_count": 32,
   "metadata": {},
   "outputs": [
    {
     "output_type": "stream",
     "name": "stdout",
     "text": [
      "(100, 17)\n(99, 17)\n"
     ]
    }
   ],
   "source": [
    "chunker = pd.read_csv('D:\\Datasets\\wfp_food_prices_myanmar.csv', nrows=100)\n",
    "print(chunker.shape)\n",
    "chunker.drop([0], inplace=True)\n",
    "print(chunker.shape)"
   ]
  },
  {
   "cell_type": "code",
   "execution_count": 22,
   "metadata": {},
   "outputs": [
    {
     "output_type": "stream",
     "name": "stdout",
     "text": [
      "date         object\ncmname       object\nunit         object\ncategory     object\nprice        object\ncurrency     object\ncountry      object\nadmname      object\nadm1id       object\nmktname      object\nmktid       float64\ncmid         object\nptid        float64\numid        float64\ncatid        object\nsn           object\ndefault     float64\ndtype: object\n"
     ]
    }
   ],
   "source": [
    "print(chunker.dtypes)"
   ]
  },
  {
   "cell_type": "code",
   "execution_count": 33,
   "metadata": {},
   "outputs": [
    {
     "output_type": "stream",
     "name": "stdout",
     "text": [
      "date          object\ncmname        object\nunit          object\ncategory    category\nprice         object\ncurrency      object\ncountry       object\nadmname       object\nadm1id        object\nmktname       object\nmktid        float64\ncmid          object\nptid         float64\numid         float64\ncatid         object\nsn            object\ndefault      float64\ndtype: object\n"
     ]
    }
   ],
   "source": [
    "chunker.loc[:, 'category'] = chunker.select_dtypes(['object']).apply(lambda x: x.astype('category'))\n",
    "print(chunker.dtypes)"
   ]
  },
  {
   "cell_type": "code",
   "execution_count": 34,
   "metadata": {},
   "outputs": [
    {
     "output_type": "execute_result",
     "data": {
      "text/plain": [
       "cereals and tubers    60\n",
       "oil and fats          35\n",
       "pulses and nuts        4\n",
       "Name: category, dtype: int64"
      ]
     },
     "metadata": {},
     "execution_count": 34
    }
   ],
   "source": [
    "chunker.category.value_counts()"
   ]
  },
  {
   "cell_type": "code",
   "execution_count": 44,
   "metadata": {},
   "outputs": [
    {
     "output_type": "stream",
     "name": "stderr",
     "text": [
      "<ipython-input-44-1d6b4020d2be>:7: FutureWarning: Treating datetime data as categorical rather than numeric in `.describe` is deprecated and will be removed in a future version of pandas. Specify `datetime_is_numeric=True` to silence this warning and adopt the future behavior now.\n  chunker.convert_date.describe()\n"
     ]
    },
    {
     "output_type": "execute_result",
     "data": {
      "text/plain": [
       "count                      99\n",
       "unique                     36\n",
       "top       2010-02-15 00:00:00\n",
       "freq                        3\n",
       "first     2008-01-15 00:00:00\n",
       "last      2011-01-15 00:00:00\n",
       "Name: convert_date, dtype: object"
      ]
     },
     "metadata": {},
     "execution_count": 44
    }
   ],
   "source": [
    "chunker['date'].isnull().sum()\n",
    "chunker.date.value_counts().sort_index()\n",
    "\n",
    "## convert date column into Y-m-d format\n",
    "chunker['convert_date'] = pd.to_datetime(chunker.date, format= '%Y-%m-%d')\n",
    "#chunker.dtypes\n",
    "chunker.convert_date.describe()"
   ]
  },
  {
   "cell_type": "code",
   "execution_count": 23,
   "metadata": {},
   "outputs": [],
   "source": [
    "chunker.loc[:, chunker.dtypes == 'object'] = chunker.select_dtypes(['object']).apply(lambda x:x.astype('category'))"
   ]
  },
  {
   "cell_type": "code",
   "execution_count": 24,
   "metadata": {},
   "outputs": [
    {
     "output_type": "execute_result",
     "data": {
      "text/plain": [
       "date        category\n",
       "cmname      category\n",
       "unit        category\n",
       "category    category\n",
       "price       category\n",
       "currency    category\n",
       "country     category\n",
       "admname     category\n",
       "adm1id      category\n",
       "mktname     category\n",
       "mktid        float64\n",
       "cmid        category\n",
       "ptid         float64\n",
       "umid         float64\n",
       "catid       category\n",
       "sn          category\n",
       "default      float64\n",
       "dtype: object"
      ]
     },
     "metadata": {},
     "execution_count": 24
    }
   ],
   "source": [
    "chunker.dtypes"
   ]
  },
  {
   "cell_type": "code",
   "execution_count": 26,
   "metadata": {},
   "outputs": [
    {
     "output_type": "execute_result",
     "data": {
      "text/plain": [
       "date        0\n",
       "cmname      0\n",
       "unit        0\n",
       "category    0\n",
       "price       0\n",
       "currency    0\n",
       "country     0\n",
       "admname     0\n",
       "adm1id      0\n",
       "mktname     0\n",
       "cmid        0\n",
       "catid       0\n",
       "sn          0\n",
       "dtype: int64"
      ]
     },
     "metadata": {},
     "execution_count": 26
    }
   ],
   "source": [
    "catcols = chunker.select_dtypes(include=['category']).columns\n",
    "chunker[catcols].isnull().sum()"
   ]
  },
  {
   "cell_type": "code",
   "execution_count": 28,
   "metadata": {},
   "outputs": [
    {
     "output_type": "execute_result",
     "data": {
      "text/plain": [
       "cereals and tubers    60\n",
       "oil and fats          35\n",
       "pulses and nuts        4\n",
       "Name: category, dtype: int64"
      ]
     },
     "metadata": {},
     "execution_count": 28
    }
   ],
   "source": [
    "chunker.category.value_counts(sort=False)"
   ]
  },
  {
   "cell_type": "code",
   "execution_count": 30,
   "metadata": {},
   "outputs": [
    {
     "output_type": "execute_result",
     "data": {
      "text/plain": [
       "       mktid  ptid       umid  default\n",
       "count   99.0  99.0  99.000000      0.0\n",
       "mean   977.0  15.0   8.535354      NaN\n",
       "std      0.0   0.0   4.805000      NaN\n",
       "min    977.0  15.0   5.000000      NaN\n",
       "25%    977.0  15.0   5.000000      NaN\n",
       "50%    977.0  15.0   5.000000      NaN\n",
       "75%    977.0  15.0  15.000000      NaN\n",
       "max    977.0  15.0  15.000000      NaN"
      ],
      "text/html": "<div>\n<style scoped>\n    .dataframe tbody tr th:only-of-type {\n        vertical-align: middle;\n    }\n\n    .dataframe tbody tr th {\n        vertical-align: top;\n    }\n\n    .dataframe thead th {\n        text-align: right;\n    }\n</style>\n<table border=\"1\" class=\"dataframe\">\n  <thead>\n    <tr style=\"text-align: right;\">\n      <th></th>\n      <th>mktid</th>\n      <th>ptid</th>\n      <th>umid</th>\n      <th>default</th>\n    </tr>\n  </thead>\n  <tbody>\n    <tr>\n      <th>count</th>\n      <td>99.0</td>\n      <td>99.0</td>\n      <td>99.000000</td>\n      <td>0.0</td>\n    </tr>\n    <tr>\n      <th>mean</th>\n      <td>977.0</td>\n      <td>15.0</td>\n      <td>8.535354</td>\n      <td>NaN</td>\n    </tr>\n    <tr>\n      <th>std</th>\n      <td>0.0</td>\n      <td>0.0</td>\n      <td>4.805000</td>\n      <td>NaN</td>\n    </tr>\n    <tr>\n      <th>min</th>\n      <td>977.0</td>\n      <td>15.0</td>\n      <td>5.000000</td>\n      <td>NaN</td>\n    </tr>\n    <tr>\n      <th>25%</th>\n      <td>977.0</td>\n      <td>15.0</td>\n      <td>5.000000</td>\n      <td>NaN</td>\n    </tr>\n    <tr>\n      <th>50%</th>\n      <td>977.0</td>\n      <td>15.0</td>\n      <td>5.000000</td>\n      <td>NaN</td>\n    </tr>\n    <tr>\n      <th>75%</th>\n      <td>977.0</td>\n      <td>15.0</td>\n      <td>15.000000</td>\n      <td>NaN</td>\n    </tr>\n    <tr>\n      <th>max</th>\n      <td>977.0</td>\n      <td>15.0</td>\n      <td>15.000000</td>\n      <td>NaN</td>\n    </tr>\n  </tbody>\n</table>\n</div>"
     },
     "metadata": {},
     "execution_count": 30
    }
   ],
   "source": [
    "chunker.describe()"
   ]
  },
  {
   "cell_type": "code",
   "execution_count": null,
   "metadata": {},
   "outputs": [],
   "source": []
  }
 ]
}