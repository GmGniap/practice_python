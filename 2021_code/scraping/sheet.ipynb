{
 "cells": [
  {
   "cell_type": "code",
   "execution_count": 9,
   "metadata": {},
   "outputs": [],
   "source": [
    "import pandas as pd\n",
    "from requests_html import HTMLSession\n",
    "session = HTMLSession()"
   ]
  },
  {
   "cell_type": "code",
   "execution_count": 2,
   "metadata": {},
   "outputs": [
    {
     "name": "stdout",
     "output_type": "stream",
     "text": [
      "(13218, 36)\n"
     ]
    }
   ],
   "source": [
    "data = pd.read_excel(\"./GCPT.xlsx\", sheet_name='Units', engine='openpyxl')\n",
    "print(data.shape)"
   ]
  },
  {
   "cell_type": "code",
   "execution_count": 3,
   "metadata": {},
   "outputs": [
    {
     "data": {
      "text/plain": [
       "Index(['Tracker ID', 'TrackerLOC', 'ParentID', 'Wiki page', 'Country',\n",
       "       'Subnational unit (province, state)', 'Unit', 'Plant', 'Chinese Name',\n",
       "       'Other names', 'Sponsor', 'Parent', 'Capacity (MW)', 'Status', 'Year',\n",
       "       'RETIRED', 'Planned Retire', 'Combustion technology', 'Coal type',\n",
       "       'Coal source', 'Location', 'Local area (taluk, county)',\n",
       "       'Major area (prefecture, district)', 'Region', 'Latitude', 'Longitude',\n",
       "       'Accuracy', 'Permits', 'Captive', 'Captive industry use',\n",
       "       'Captive residential use', 'Heat rate', 'Emission factor',\n",
       "       'Annual CO2 (million tonnes / annum)', 'Lifetime CO2', 'Plant age'],\n",
       "      dtype='object')"
      ]
     },
     "execution_count": 3,
     "metadata": {},
     "output_type": "execute_result"
    }
   ],
   "source": [
    "data.columns"
   ]
  },
  {
   "cell_type": "code",
   "execution_count": 4,
   "metadata": {},
   "outputs": [
    {
     "name": "stdout",
     "output_type": "stream",
     "text": [
      "(197, 36)\n"
     ]
    }
   ],
   "source": [
    "v_data = data[data['Country']=='Vietnam']\n",
    "print(v_data.shape)"
   ]
  },
  {
   "cell_type": "code",
   "execution_count": 5,
   "metadata": {},
   "outputs": [
    {
     "name": "stdout",
     "output_type": "stream",
     "text": [
      "(54,)\n"
     ]
    }
   ],
   "source": [
    "u = v_data['Wiki page'].unique()\n",
    "print(u.shape)"
   ]
  },
  {
   "cell_type": "code",
   "execution_count": 33,
   "metadata": {},
   "outputs": [
    {
     "name": "stdout",
     "output_type": "stream",
     "text": [
      "(1, 3)\n",
      "(1, 3)\n",
      "(1, 3)\n",
      "(1, 3)\n",
      "(1, 3)\n",
      "(1, 3)\n",
      "(1, 3)\n",
      "(1, 3)\n",
      "(1, 3)\n",
      "(1, 3)\n",
      "(1, 3)\n",
      "(1, 3)\n",
      "(1, 3)\n",
      "(1, 3)\n",
      "(1, 3)\n",
      "(1, 3)\n",
      "(1, 3)\n",
      "(1, 3)\n",
      "(1, 3)\n",
      "(1, 3)\n",
      "(1, 3)\n",
      "(1, 3)\n",
      "(1, 3)\n",
      "(1, 3)\n",
      "(1, 3)\n",
      "(1, 3)\n",
      "(1, 3)\n",
      "(1, 3)\n",
      "(1, 3)\n",
      "(1, 3)\n",
      "(1, 3)\n",
      "(1, 3)\n",
      "(1, 3)\n",
      "(1, 3)\n",
      "(1, 3)\n",
      "(1, 3)\n",
      "(1, 3)\n",
      "(1, 3)\n",
      "(1, 3)\n",
      "(1, 3)\n",
      "(1, 3)\n",
      "(1, 3)\n",
      "(1, 3)\n",
      "(1, 3)\n",
      "(1, 3)\n",
      "(1, 3)\n",
      "(1, 3)\n",
      "(1, 3)\n",
      "(1, 3)\n",
      "(1, 3)\n",
      "(1, 3)\n",
      "(1, 3)\n",
      "(1, 3)\n",
      "(1, 3)\n",
      "(54, 3)\n"
     ]
    }
   ],
   "source": [
    "col_names = ['Title','Headers','URL']\n",
    "out = pd.DataFrame(columns=col_names)\n",
    "for i in range(len(u)):\n",
    "    r = session.get(u[i])\n",
    "    t = [e.text for e in r.html.find(\"title\")]\n",
    "    h2 = [[e.text for e in r.html.find(\"h2\")]]\n",
    "    link = [r.html.url]\n",
    "    #print(h2)\n",
    "    #print(list(zip(t,h2,link)))\n",
    "    inside_df = pd.DataFrame(list(zip(t,h2,link)),columns=col_names)\n",
    "    out = out.append(inside_df, ignore_index=True)\n",
    "    print(inside_df.shape)\n",
    "print(out.shape)"
   ]
  },
  {
   "cell_type": "code",
   "execution_count": 34,
   "metadata": {},
   "outputs": [],
   "source": [
    "out.to_csv(\"./output.csv\")"
   ]
  },
  {
   "cell_type": "code",
   "execution_count": null,
   "metadata": {},
   "outputs": [],
   "source": []
  }
 ],
 "metadata": {
  "interpreter": {
   "hash": "2647ea34e536f865ab67ff9ddee7fd78773d956cec0cab53c79b32cd10da5d83"
  },
  "kernelspec": {
   "display_name": "Python 3.9.1 64-bit",
   "name": "python3"
  },
  "language_info": {
   "codemirror_mode": {
    "name": "ipython",
    "version": 3
   },
   "file_extension": ".py",
   "mimetype": "text/x-python",
   "name": "python",
   "nbconvert_exporter": "python",
   "pygments_lexer": "ipython3",
   "version": "3.9.1"
  },
  "orig_nbformat": 4
 },
 "nbformat": 4,
 "nbformat_minor": 2
}
