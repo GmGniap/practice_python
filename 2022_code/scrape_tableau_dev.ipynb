{
 "cells": [
  {
   "cell_type": "code",
   "execution_count": 33,
   "metadata": {},
   "outputs": [
    {
     "name": "stderr",
     "output_type": "stream",
     "text": [
      "\n",
      "\n",
      "====== WebDriver manager ======\n",
      "Current google-chrome version is 98.0.4758\n",
      "Get LATEST chromedriver version for 98.0.4758 google-chrome\n",
      "Trying to download new driver from https://chromedriver.storage.googleapis.com/98.0.4758.102/chromedriver_win32.zip\n",
      "Driver has been saved in cache [C:\\Users\\User\\.wdm\\drivers\\chromedriver\\win32\\98.0.4758.102]\n"
     ]
    }
   ],
   "source": [
    "from selenium import webdriver \n",
    "from selenium.webdriver.chrome.service import Service\n",
    "from webdriver_manager.chrome import ChromeDriverManager \n",
    "\n",
    "driver = webdriver.Chrome(service=Service(ChromeDriverManager().install()))\n",
    "driver.get(\"https://public.tableau.com/app/discover/authors\")\n",
    "print(driver.title)"
   ]
  },
  {
   "cell_type": "code",
   "execution_count": 53,
   "metadata": {},
   "outputs": [
    {
     "name": "stdout",
     "output_type": "stream",
     "text": [
      "[{'Name': 'Idris Akilapa', 'Address': 'Ibadan, Nigeria', 'Total_vizzes': '51', 'Followers': '292', 'Following': '86', 'Profile_URL': 'https://public.tableau.com/app/profile/akilapa.idris5302'}, {'Name': 'Anita Onyeacho', 'Address': 'Charlotte, United States', 'Total_vizzes': '23', 'Followers': '213', 'Following': '181', 'Profile_URL': 'https://public.tableau.com/app/profile/anita.onyeacho'}, {'Name': 'Ant Pulley', 'Address': 'Letchworth Garden City, United Kingdom', 'Total_vizzes': '75', 'Followers': '318', 'Following': '351', 'Profile_URL': 'https://public.tableau.com/app/profile/ant.pulley'}, {'Name': 'Bill Chen (陳克勤)', 'Address': 'TAOYUAN, Taiwan', 'Total_vizzes': '99', 'Followers': '289', 'Following': '451', 'Profile_URL': 'https://public.tableau.com/app/profile/bill1210'}, {'Name': 'Dennis Kao', 'Address': 'Ottawa, Canada', 'Total_vizzes': '79', 'Followers': '131', 'Following': '78', 'Profile_URL': 'https://public.tableau.com/app/profile/dennis.kao'}, {'Name': 'Ervin Vinzon', 'Address': 'Manila, Philippines', 'Total_vizzes': '85', 'Followers': '163', 'Following': '150', 'Profile_URL': 'https://public.tableau.com/app/profile/ervin.vinzon'}, {'Name': 'Harim Jung', 'Address': '', 'Total_vizzes': '87', 'Followers': '236', 'Following': '157', 'Profile_URL': 'https://public.tableau.com/app/profile/harim.jung'}, {'Name': 'Jared Flores', 'Address': 'Dallas, United States', 'Total_vizzes': '27', 'Followers': '185', 'Following': '233', 'Profile_URL': 'https://public.tableau.com/app/profile/jared8766'}, {'Name': 'Juan Angel Martínez Arzola', 'Address': 'Monterrey, Mexico', 'Total_vizzes': '9', 'Followers': '469', 'Following': '41', 'Profile_URL': 'https://public.tableau.com/app/profile/juan.angel.mart.nez.arzola'}, {'Name': 'Katie Kilroy', 'Address': 'Cork, Ireland', 'Total_vizzes': '91', 'Followers': '208', 'Following': '204', 'Profile_URL': 'https://public.tableau.com/app/profile/katie.kilroy'}, {'Name': 'Line Ton That', 'Address': 'Nantes, France', 'Total_vizzes': '40', 'Followers': '139', 'Following': '50', 'Profile_URL': 'https://public.tableau.com/app/profile/line.ton.that'}, {'Name': 'Luke Abraham', 'Address': 'Iowa, United States', 'Total_vizzes': '33', 'Followers': '211', 'Following': '137', 'Profile_URL': 'https://public.tableau.com/app/profile/luke.abraham'}, {'Name': 'Nicole Klassen', 'Address': 'Atlanta, United States', 'Total_vizzes': '22', 'Followers': '184', 'Following': '123', 'Profile_URL': 'https://public.tableau.com/app/profile/nicole.klassen'}, {'Name': 'Prasann Prem', 'Address': 'New Delhi, India', 'Total_vizzes': '26', 'Followers': '223', 'Following': '219', 'Profile_URL': 'https://public.tableau.com/app/profile/prasann.prem'}, {'Name': 'Sam Epley', 'Address': 'Minneapolis, United States', 'Total_vizzes': '362', 'Followers': '309', 'Following': '174', 'Profile_URL': 'https://public.tableau.com/app/profile/sam.epley'}, {'Name': 'Shazeera Ahmad Zawawi', 'Address': 'Mont-sur-Rolle, Vaud, Switzerland, Switzerland', 'Total_vizzes': '19', 'Followers': '174', 'Following': '111', 'Profile_URL': 'https://public.tableau.com/app/profile/shazeera.zawawi'}, {'Name': 'Tina Covelli', 'Address': 'Maryland, United States', 'Total_vizzes': '23', 'Followers': '251', 'Following': '76', 'Profile_URL': 'https://public.tableau.com/app/profile/tina1167'}, {'Name': 'Will Sutton', 'Address': 'London, United Kingdom', 'Total_vizzes': '101', 'Followers': '606', 'Following': '384', 'Profile_URL': 'https://public.tableau.com/app/profile/wjsutton'}]\n"
     ]
    }
   ],
   "source": [
    "from bs4 import BeautifulSoup\n",
    "from urllib.parse import urljoin\n",
    "base = 'https://public.tableau.com'\n",
    "html = driver.page_source\n",
    "soup = BeautifulSoup(html,\"html.parser\")\n",
    "\n",
    "\n",
    "## Ref - https://stackoverflow.com/questions/63535607/how-to-scrape-the-data-from-multiple-same-class-under-div-using-beautifulsoup\n",
    "## Above one saved me to get numbers from same class names \n",
    "div_class = soup.find_all('div', class_='FeaturedAuthorsList_featuredAuthorsGridItem__1Dgam')\n",
    "all_dev = []\n",
    "\n",
    "from create_db import create_connection,create_table\n",
    "database = 'test.db'\n",
    "conn = create_connection(database)\n",
    "\n",
    "for i in div_class:\n",
    "    try:\n",
    "        name = i.find('div', class_='ProfileCard_namePlate__164ez').get_text()\n",
    "        address = i.find('div', class_='ProfileCard_address__1Qg-J').get_text()\n",
    "        total_viz = i.find('span', string='vizzes').parent.find(class_='ProfileCard_statCount__3V8ah').get_text()\n",
    "        follower = i.find('span',string='followers').parent.find(class_='ProfileCard_statCount__3V8ah').get_text()\n",
    "        following = i.find('span',string='following').parent.find(class_='ProfileCard_statCount__3V8ah').get_text()\n",
    "        href = i.find('a', class_='ProfileCard_link__2n0JF').attrs['href']\n",
    "        url = urljoin(base,href)\n",
    "        # data = (name,address,total_viz,follower,following,url)\n",
    "        # create_table(conn,data)\n",
    "\n",
    "        feature_dev = {}\n",
    "        feature_dev['Name'] = name \n",
    "        feature_dev['Address'] = address\n",
    "        feature_dev['Total_vizzes'] = total_viz\n",
    "        feature_dev['Followers'] = follower \n",
    "        feature_dev['Following'] = following \n",
    "        feature_dev['Profile_URL'] = url\n",
    "        all_dev.append(feature_dev) \n",
    "    except:\n",
    "        print(\"Error\")\n",
    "print(all_dev)\n",
    "\n"
   ]
  },
  {
   "cell_type": "code",
   "execution_count": 54,
   "metadata": {},
   "outputs": [
    {
     "name": "stdout",
     "output_type": "stream",
     "text": [
      "              Name                                 Address Total_vizzes  \\\n",
      "0    Idris Akilapa                         Ibadan, Nigeria           51   \n",
      "1   Anita Onyeacho                Charlotte, United States           23   \n",
      "2       Ant Pulley  Letchworth Garden City, United Kingdom           75   \n",
      "3  Bill Chen (陳克勤)                         TAOYUAN, Taiwan           99   \n",
      "4       Dennis Kao                          Ottawa, Canada           79   \n",
      "\n",
      "  Followers Following                                        Profile_URL  \n",
      "0       292        86  https://public.tableau.com/app/profile/akilapa...  \n",
      "1       213       181  https://public.tableau.com/app/profile/anita.o...  \n",
      "2       318       351  https://public.tableau.com/app/profile/ant.pulley  \n",
      "3       289       451    https://public.tableau.com/app/profile/bill1210  \n",
      "4       131        78  https://public.tableau.com/app/profile/dennis.kao  \n"
     ]
    }
   ],
   "source": [
    "import pandas as pd\n",
    "df = pd.DataFrame(all_dev)\n",
    "print(df.head())\n",
    "\n",
    "\n"
   ]
  },
  {
   "cell_type": "code",
   "execution_count": 59,
   "metadata": {},
   "outputs": [],
   "source": [
    "## REF - https://towardsdatascience.com/sqlalchemy-python-tutorial-79a577141a91\n",
    "## Above tutorial helped me to write below code , but I still need to try to understand how SQLalchemy works\n",
    "import sqlalchemy as db\n",
    "from sqlalchemy import create_engine\n",
    "\n",
    "database = \"test.db\"\n",
    "sqlite_url = f\"sqlite:///{database}\"\n",
    "engine = create_engine(sqlite_url)\n",
    "\n",
    "connection = engine.connect()\n",
    "metadata = db.MetaData()\n",
    "dev = db.Table('dev',metadata, autoload=True, autoload_with=engine)"
   ]
  },
  {
   "cell_type": "code",
   "execution_count": 63,
   "metadata": {},
   "outputs": [],
   "source": [
    "query = db.select([dev])\n",
    "ResultProxy = connection.execute(query)\n",
    "ResultSet = ResultProxy.fetchall()\n",
    "print(ResultSet)"
   ]
  },
  {
   "cell_type": "code",
   "execution_count": 66,
   "metadata": {},
   "outputs": [
    {
     "data": {
      "text/plain": [
       "18"
      ]
     },
     "execution_count": 66,
     "metadata": {},
     "output_type": "execute_result"
    }
   ],
   "source": [
    "## Need to change if_exists='append' if I run next time\n",
    "df.to_sql('dev', con=engine, if_exists='replace')"
   ]
  },
  {
   "cell_type": "code",
   "execution_count": 67,
   "metadata": {},
   "outputs": [
    {
     "data": {
      "text/plain": [
       "[(0, 'Idris Akilapa', 'Ibadan, Nigeria', '51', '292', '86', 'https://public.tableau.com/app/profile/akilapa.idris5302'),\n",
       " (1, 'Anita Onyeacho', 'Charlotte, United States', '23', '213', '181', 'https://public.tableau.com/app/profile/anita.onyeacho'),\n",
       " (2, 'Ant Pulley', 'Letchworth Garden City, United Kingdom', '75', '318', '351', 'https://public.tableau.com/app/profile/ant.pulley'),\n",
       " (3, 'Bill Chen (陳克勤)', 'TAOYUAN, Taiwan', '99', '289', '451', 'https://public.tableau.com/app/profile/bill1210'),\n",
       " (4, 'Dennis Kao', 'Ottawa, Canada', '79', '131', '78', 'https://public.tableau.com/app/profile/dennis.kao'),\n",
       " (5, 'Ervin Vinzon', 'Manila, Philippines', '85', '163', '150', 'https://public.tableau.com/app/profile/ervin.vinzon'),\n",
       " (6, 'Harim Jung', '', '87', '236', '157', 'https://public.tableau.com/app/profile/harim.jung'),\n",
       " (7, 'Jared Flores', 'Dallas, United States', '27', '185', '233', 'https://public.tableau.com/app/profile/jared8766'),\n",
       " (8, 'Juan Angel Martínez Arzola', 'Monterrey, Mexico', '9', '469', '41', 'https://public.tableau.com/app/profile/juan.angel.mart.nez.arzola'),\n",
       " (9, 'Katie Kilroy', 'Cork, Ireland', '91', '208', '204', 'https://public.tableau.com/app/profile/katie.kilroy'),\n",
       " (10, 'Line Ton That', 'Nantes, France', '40', '139', '50', 'https://public.tableau.com/app/profile/line.ton.that'),\n",
       " (11, 'Luke Abraham', 'Iowa, United States', '33', '211', '137', 'https://public.tableau.com/app/profile/luke.abraham'),\n",
       " (12, 'Nicole Klassen', 'Atlanta, United States', '22', '184', '123', 'https://public.tableau.com/app/profile/nicole.klassen'),\n",
       " (13, 'Prasann Prem', 'New Delhi, India', '26', '223', '219', 'https://public.tableau.com/app/profile/prasann.prem'),\n",
       " (14, 'Sam Epley', 'Minneapolis, United States', '362', '309', '174', 'https://public.tableau.com/app/profile/sam.epley'),\n",
       " (15, 'Shazeera Ahmad Zawawi', 'Mont-sur-Rolle, Vaud, Switzerland, Switzerland', '19', '174', '111', 'https://public.tableau.com/app/profile/shazeera.zawawi'),\n",
       " (16, 'Tina Covelli', 'Maryland, United States', '23', '251', '76', 'https://public.tableau.com/app/profile/tina1167'),\n",
       " (17, 'Will Sutton', 'London, United Kingdom', '101', '606', '384', 'https://public.tableau.com/app/profile/wjsutton')]"
      ]
     },
     "execution_count": 67,
     "metadata": {},
     "output_type": "execute_result"
    }
   ],
   "source": [
    "engine.execute(\"SELECT * FROM dev\").fetchall()"
   ]
  },
  {
   "cell_type": "code",
   "execution_count": null,
   "metadata": {},
   "outputs": [],
   "source": []
  }
 ],
 "metadata": {
  "interpreter": {
   "hash": "72dfed8c86c98376783a7c2b47ff483df7f51e5cfa9b8d247761a3186230f1e9"
  },
  "kernelspec": {
   "display_name": "Python 3.9.1 ('environment': venv)",
   "language": "python",
   "name": "python3"
  },
  "language_info": {
   "codemirror_mode": {
    "name": "ipython",
    "version": 3
   },
   "file_extension": ".py",
   "mimetype": "text/x-python",
   "name": "python",
   "nbconvert_exporter": "python",
   "pygments_lexer": "ipython3",
   "version": "3.9.1"
  },
  "orig_nbformat": 4
 },
 "nbformat": 4,
 "nbformat_minor": 2
}
