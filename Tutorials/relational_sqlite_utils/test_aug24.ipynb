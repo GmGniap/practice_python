{
 "cells": [
  {
   "cell_type": "code",
   "execution_count": 1,
   "metadata": {},
   "outputs": [
    {
     "ename": "ImportError",
     "evalue": "Unable to import required dependencies:\nnumpy: \n\nIMPORTANT: PLEASE READ THIS FOR ADVICE ON HOW TO SOLVE THIS ISSUE!\n\nImporting the numpy C-extensions failed. This error can happen for\nmany reasons, often due to issues with your setup or how NumPy was\ninstalled.\n\nWe have compiled some common reasons and troubleshooting tips at:\n\n    https://numpy.org/devdocs/user/troubleshooting-importerror.html\n\nPlease note and check the following:\n\n  * The Python version is: Python3.10 from \"/Users/thetpaing/Documents/Coding/practice_python/environment/bin/python\"\n  * The NumPy version is: \"1.22.4\"\n\nand make sure that they are the versions you expect.\nPlease carefully study the documentation linked above for further help.\n\nOriginal error was: dlopen(/Users/thetpaing/Documents/Coding/practice_python/environment/lib/python3.10/site-packages/numpy/core/_multiarray_umath.cpython-310-darwin.so, 0x0002): tried: '/Users/thetpaing/Documents/Coding/practice_python/environment/lib/python3.10/site-packages/numpy/core/_multiarray_umath.cpython-310-darwin.so' (mach-o file, but is an incompatible architecture (have (arm64), need (x86_64)))\n",
     "output_type": "error",
     "traceback": [
      "\u001b[0;31m---------------------------------------------------------------------------\u001b[0m",
      "\u001b[0;31mImportError\u001b[0m                               Traceback (most recent call last)",
      "\u001b[1;32m/Users/thetpaing/Documents/Coding/practice_python/Tutorials/relational_sqlite_utils/test_aug24.ipynb Cell 1\u001b[0m in \u001b[0;36m<cell line: 2>\u001b[0;34m()\u001b[0m\n\u001b[1;32m      <a href='vscode-notebook-cell:/Users/thetpaing/Documents/Coding/practice_python/Tutorials/relational_sqlite_utils/test_aug24.ipynb#W0sZmlsZQ%3D%3D?line=0'>1</a>\u001b[0m \u001b[39mfrom\u001b[39;00m \u001b[39msqlite_utils\u001b[39;00m \u001b[39mimport\u001b[39;00m Database\n\u001b[0;32m----> <a href='vscode-notebook-cell:/Users/thetpaing/Documents/Coding/practice_python/Tutorials/relational_sqlite_utils/test_aug24.ipynb#W0sZmlsZQ%3D%3D?line=1'>2</a>\u001b[0m \u001b[39mimport\u001b[39;00m \u001b[39mpandas\u001b[39;00m \u001b[39mas\u001b[39;00m \u001b[39mpd\u001b[39;00m\n\u001b[1;32m      <a href='vscode-notebook-cell:/Users/thetpaing/Documents/Coding/practice_python/Tutorials/relational_sqlite_utils/test_aug24.ipynb#W0sZmlsZQ%3D%3D?line=2'>3</a>\u001b[0m \u001b[39mimport\u001b[39;00m \u001b[39mjson\u001b[39;00m\n",
      "File \u001b[0;32m~/Documents/Coding/practice_python/environment/lib/python3.10/site-packages/pandas/__init__.py:16\u001b[0m, in \u001b[0;36m<module>\u001b[0;34m\u001b[0m\n\u001b[1;32m     13\u001b[0m         missing_dependencies\u001b[39m.\u001b[39mappend(\u001b[39mf\u001b[39m\u001b[39m\"\u001b[39m\u001b[39m{\u001b[39;00mdependency\u001b[39m}\u001b[39;00m\u001b[39m: \u001b[39m\u001b[39m{\u001b[39;00me\u001b[39m}\u001b[39;00m\u001b[39m\"\u001b[39m)\n\u001b[1;32m     15\u001b[0m \u001b[39mif\u001b[39;00m missing_dependencies:\n\u001b[0;32m---> 16\u001b[0m     \u001b[39mraise\u001b[39;00m \u001b[39mImportError\u001b[39;00m(\n\u001b[1;32m     17\u001b[0m         \u001b[39m\"\u001b[39m\u001b[39mUnable to import required dependencies:\u001b[39m\u001b[39m\\n\u001b[39;00m\u001b[39m\"\u001b[39m \u001b[39m+\u001b[39m \u001b[39m\"\u001b[39m\u001b[39m\\n\u001b[39;00m\u001b[39m\"\u001b[39m\u001b[39m.\u001b[39mjoin(missing_dependencies)\n\u001b[1;32m     18\u001b[0m     )\n\u001b[1;32m     19\u001b[0m \u001b[39mdel\u001b[39;00m hard_dependencies, dependency, missing_dependencies\n\u001b[1;32m     21\u001b[0m \u001b[39m# numpy compat\u001b[39;00m\n",
      "\u001b[0;31mImportError\u001b[0m: Unable to import required dependencies:\nnumpy: \n\nIMPORTANT: PLEASE READ THIS FOR ADVICE ON HOW TO SOLVE THIS ISSUE!\n\nImporting the numpy C-extensions failed. This error can happen for\nmany reasons, often due to issues with your setup or how NumPy was\ninstalled.\n\nWe have compiled some common reasons and troubleshooting tips at:\n\n    https://numpy.org/devdocs/user/troubleshooting-importerror.html\n\nPlease note and check the following:\n\n  * The Python version is: Python3.10 from \"/Users/thetpaing/Documents/Coding/practice_python/environment/bin/python\"\n  * The NumPy version is: \"1.22.4\"\n\nand make sure that they are the versions you expect.\nPlease carefully study the documentation linked above for further help.\n\nOriginal error was: dlopen(/Users/thetpaing/Documents/Coding/practice_python/environment/lib/python3.10/site-packages/numpy/core/_multiarray_umath.cpython-310-darwin.so, 0x0002): tried: '/Users/thetpaing/Documents/Coding/practice_python/environment/lib/python3.10/site-packages/numpy/core/_multiarray_umath.cpython-310-darwin.so' (mach-o file, but is an incompatible architecture (have (arm64), need (x86_64)))\n"
     ]
    }
   ],
   "source": [
    "from sqlite_utils import Database\n",
    "import pandas as pd\n",
    "import json"
   ]
  },
  {
   "cell_type": "code",
   "execution_count": 2,
   "metadata": {},
   "outputs": [
    {
     "name": "stdout",
     "output_type": "stream",
     "text": [
      "Index(['gradename', 'regionid', 'stationid', 'station_code', 'effectivedate',\n",
      "       'pretransactiondate', 'price', 'transactiondate'],\n",
      "      dtype='object')\n",
      "(413, 8)\n",
      "        gradename  regionid  stationid station_code        effectivedate  \\\n",
      "0          Diesel         1          1          TWN  8/27/22 12:00:00 AM   \n",
      "1          Diesel         1          1          TWN  8/27/22 12:00:00 AM   \n",
      "2  Premium Diesel         1          1          TWN  8/27/22 12:00:00 AM   \n",
      "3  Premium Diesel         1          1          TWN  8/27/22 12:00:00 AM   \n",
      "4   92 Ron Octane         1          1          TWN  8/27/22 12:00:00 AM   \n",
      "\n",
      "    pretransactiondate  price     transactiondate  \n",
      "0  8/27/22 12:00:00 AM   3225                None  \n",
      "1                 None   3195  8/27/22 6:30:00 AM  \n",
      "2  8/27/22 12:00:00 AM   3305                None  \n",
      "3                 None   3275  8/27/22 6:30:00 AM  \n",
      "4  8/27/22 12:00:00 AM   2495                None  \n"
     ]
    }
   ],
   "source": [
    "daily = pd.read_json('./sample_data/daily.json')\n",
    "print(daily.columns)\n",
    "print(daily.shape)\n",
    "print(daily.head())"
   ]
  },
  {
   "cell_type": "code",
   "execution_count": 6,
   "metadata": {},
   "outputs": [
    {
     "ename": "TypeError",
     "evalue": "JSONEncoder.__init__() got an unexpected keyword argument 'encoding'",
     "output_type": "error",
     "traceback": [
      "\u001b[0;31m---------------------------------------------------------------------------\u001b[0m",
      "\u001b[0;31mTypeError\u001b[0m                                 Traceback (most recent call last)",
      "\u001b[1;32m/Users/thetpaing/Documents/Coding/practice_python/Tutorials/relational_sqlite_utils/test_aug24.ipynb Cell 3'\u001b[0m in \u001b[0;36m<cell line: 5>\u001b[0;34m()\u001b[0m\n\u001b[1;32m      <a href='vscode-notebook-cell:/Users/thetpaing/Documents/Coding/practice_python/Tutorials/relational_sqlite_utils/test_aug24.ipynb#ch0000002?line=2'>3</a>\u001b[0m \u001b[39m## difference between json.load() and json.loads()\u001b[39;00m\n\u001b[1;32m      <a href='vscode-notebook-cell:/Users/thetpaing/Documents/Coding/practice_python/Tutorials/relational_sqlite_utils/test_aug24.ipynb#ch0000002?line=3'>4</a>\u001b[0m data \u001b[39m=\u001b[39m json\u001b[39m.\u001b[39mload(f)\n\u001b[0;32m----> <a href='vscode-notebook-cell:/Users/thetpaing/Documents/Coding/practice_python/Tutorials/relational_sqlite_utils/test_aug24.ipynb#ch0000002?line=4'>5</a>\u001b[0m \u001b[39mprint\u001b[39m(json\u001b[39m.\u001b[39;49mdumps(data, indent\u001b[39m=\u001b[39;49m \u001b[39m4\u001b[39;49m, sort_keys\u001b[39m=\u001b[39;49m\u001b[39mTrue\u001b[39;49;00m, encoding\u001b[39m=\u001b[39;49m\u001b[39m'\u001b[39;49m\u001b[39mutf-8\u001b[39;49m\u001b[39m'\u001b[39;49m))\n",
      "File \u001b[0;32m/Library/Frameworks/Python.framework/Versions/3.10/lib/python3.10/json/__init__.py:234\u001b[0m, in \u001b[0;36mdumps\u001b[0;34m(obj, skipkeys, ensure_ascii, check_circular, allow_nan, cls, indent, separators, default, sort_keys, **kw)\u001b[0m\n\u001b[1;32m    <a href='file:///Library/Frameworks/Python.framework/Versions/3.10/lib/python3.10/json/__init__.py?line=231'>232</a>\u001b[0m \u001b[39mif\u001b[39;00m \u001b[39mcls\u001b[39m \u001b[39mis\u001b[39;00m \u001b[39mNone\u001b[39;00m:\n\u001b[1;32m    <a href='file:///Library/Frameworks/Python.framework/Versions/3.10/lib/python3.10/json/__init__.py?line=232'>233</a>\u001b[0m     \u001b[39mcls\u001b[39m \u001b[39m=\u001b[39m JSONEncoder\n\u001b[0;32m--> <a href='file:///Library/Frameworks/Python.framework/Versions/3.10/lib/python3.10/json/__init__.py?line=233'>234</a>\u001b[0m \u001b[39mreturn\u001b[39;00m \u001b[39mcls\u001b[39;49m(\n\u001b[1;32m    <a href='file:///Library/Frameworks/Python.framework/Versions/3.10/lib/python3.10/json/__init__.py?line=234'>235</a>\u001b[0m     skipkeys\u001b[39m=\u001b[39;49mskipkeys, ensure_ascii\u001b[39m=\u001b[39;49mensure_ascii,\n\u001b[1;32m    <a href='file:///Library/Frameworks/Python.framework/Versions/3.10/lib/python3.10/json/__init__.py?line=235'>236</a>\u001b[0m     check_circular\u001b[39m=\u001b[39;49mcheck_circular, allow_nan\u001b[39m=\u001b[39;49mallow_nan, indent\u001b[39m=\u001b[39;49mindent,\n\u001b[1;32m    <a href='file:///Library/Frameworks/Python.framework/Versions/3.10/lib/python3.10/json/__init__.py?line=236'>237</a>\u001b[0m     separators\u001b[39m=\u001b[39;49mseparators, default\u001b[39m=\u001b[39;49mdefault, sort_keys\u001b[39m=\u001b[39;49msort_keys,\n\u001b[1;32m    <a href='file:///Library/Frameworks/Python.framework/Versions/3.10/lib/python3.10/json/__init__.py?line=237'>238</a>\u001b[0m     \u001b[39m*\u001b[39;49m\u001b[39m*\u001b[39;49mkw)\u001b[39m.\u001b[39mencode(obj)\n",
      "\u001b[0;31mTypeError\u001b[0m: JSONEncoder.__init__() got an unexpected keyword argument 'encoding'"
     ]
    }
   ],
   "source": [
    "f = open(\"./sample_data/StateAndREgion.json\",encoding='utf-8')\n",
    "\n",
    "## difference between json.load() and json.loads()\n",
    "data = json.load(f)\n",
    "print(json.dumps(data, indent= 4, sort_keys=True))\n",
    "# sr = pd.json_normalize(data[\"data\"])\n",
    "# print(sr.columns)\n",
    "# print(sr.shape)\n",
    "# print(sr.head())"
   ]
  },
  {
   "cell_type": "code",
   "execution_count": null,
   "metadata": {},
   "outputs": [],
   "source": []
  }
 ],
 "metadata": {
  "interpreter": {
   "hash": "43f9f978e86097f86422ad3a1a736eb79d02874e31223e758cffd1f02c507dc9"
  },
  "kernelspec": {
   "display_name": "Python 3.10.4 ('environment': venv)",
   "language": "python",
   "name": "python3"
  },
  "language_info": {
   "codemirror_mode": {
    "name": "ipython",
    "version": 3
   },
   "file_extension": ".py",
   "mimetype": "text/x-python",
   "name": "python",
   "nbconvert_exporter": "python",
   "pygments_lexer": "ipython3",
   "version": "3.10.4"
  },
  "orig_nbformat": 4
 },
 "nbformat": 4,
 "nbformat_minor": 2
}
